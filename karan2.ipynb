{
 "cells": [
  {
   "cell_type": "code",
   "execution_count": 19,
   "id": "d1a85032-228f-4683-a97d-2f7e417e2e6d",
   "metadata": {},
   "outputs": [],
   "source": [
    "name =\"karan jadhav\""
   ]
  },
  {
   "cell_type": "code",
   "execution_count": 20,
   "id": "5b7591b4-2b1a-4ca6-bf84-272d8109641c",
   "metadata": {},
   "outputs": [
    {
     "data": {
      "text/plain": [
       "'karan jadhav'"
      ]
     },
     "execution_count": 20,
     "metadata": {},
     "output_type": "execute_result"
    }
   ],
   "source": [
    "name"
   ]
  },
  {
   "cell_type": "code",
   "execution_count": 21,
   "id": "29e02d2a-b709-4f76-be8d-8cff4bdac46d",
   "metadata": {},
   "outputs": [
    {
     "data": {
      "text/plain": [
       "'KARAN JADHAV'"
      ]
     },
     "execution_count": 21,
     "metadata": {},
     "output_type": "execute_result"
    }
   ],
   "source": [
    "name. upper()"
   ]
  },
  {
   "cell_type": "code",
   "execution_count": 22,
   "id": "5436105d-41d9-40c6-9c4b-14a215ac0115",
   "metadata": {},
   "outputs": [
    {
     "data": {
      "text/plain": [
       "'karan jadhav'"
      ]
     },
     "execution_count": 22,
     "metadata": {},
     "output_type": "execute_result"
    }
   ],
   "source": [
    "name"
   ]
  },
  {
   "cell_type": "code",
   "execution_count": 23,
   "id": "9c1c3233-bdc8-409c-bf0f-3a8efdb18430",
   "metadata": {},
   "outputs": [
    {
     "data": {
      "text/plain": [
       "'karan jadhav'"
      ]
     },
     "execution_count": 23,
     "metadata": {},
     "output_type": "execute_result"
    }
   ],
   "source": [
    "name.lower()"
   ]
  },
  {
   "cell_type": "code",
   "execution_count": 25,
   "id": "55b6cdcd-5c47-4a5e-8470-d6a6a0b1116a",
   "metadata": {},
   "outputs": [],
   "source": [
    "name =name. upper()"
   ]
  },
  {
   "cell_type": "code",
   "execution_count": 26,
   "id": "f7c4e9ce-dbf2-4eb9-9c4b-71d2fbda7b8b",
   "metadata": {},
   "outputs": [
    {
     "data": {
      "text/plain": [
       "'KARAN JADHAV'"
      ]
     },
     "execution_count": 26,
     "metadata": {},
     "output_type": "execute_result"
    }
   ],
   "source": [
    "name"
   ]
  },
  {
   "cell_type": "code",
   "execution_count": 28,
   "id": "1225ca25-53a1-4201-8633-b771db0455e4",
   "metadata": {},
   "outputs": [],
   "source": [
    "name1=\"KAraN JAdAhaV\""
   ]
  },
  {
   "cell_type": "code",
   "execution_count": 29,
   "id": "d07c229f-7828-4a6f-b49b-9ddafe21b25d",
   "metadata": {},
   "outputs": [
    {
     "data": {
      "text/plain": [
       "'KAraN JAdAhaV'"
      ]
     },
     "execution_count": 29,
     "metadata": {},
     "output_type": "execute_result"
    }
   ],
   "source": [
    "name1"
   ]
  },
  {
   "cell_type": "code",
   "execution_count": 30,
   "id": "4e400ad5-d1ae-4187-b681-6cd20820e5df",
   "metadata": {},
   "outputs": [
    {
     "data": {
      "text/plain": [
       "'kaRAn jaDaHAv'"
      ]
     },
     "execution_count": 30,
     "metadata": {},
     "output_type": "execute_result"
    }
   ],
   "source": [
    "name1.swapcase()"
   ]
  },
  {
   "cell_type": "code",
   "execution_count": 33,
   "id": "834cd66f-ed2f-40b5-8280-1a290a6cec48",
   "metadata": {},
   "outputs": [],
   "source": [
    "name2 =\"    rehan     bagwan     \""
   ]
  },
  {
   "cell_type": "code",
   "execution_count": 34,
   "id": "5c19f8be-1eb1-47a3-8095-3d44a33164ce",
   "metadata": {},
   "outputs": [
    {
     "data": {
      "text/plain": [
       "'    rehan     bagwan     '"
      ]
     },
     "execution_count": 34,
     "metadata": {},
     "output_type": "execute_result"
    }
   ],
   "source": [
    "name2"
   ]
  },
  {
   "cell_type": "code",
   "execution_count": 35,
   "id": "450bb072-2710-42f8-909e-3e4d0c8d20d2",
   "metadata": {},
   "outputs": [
    {
     "data": {
      "text/plain": [
       "'rehan     bagwan     '"
      ]
     },
     "execution_count": 35,
     "metadata": {},
     "output_type": "execute_result"
    }
   ],
   "source": [
    "name2.lstrip()"
   ]
  },
  {
   "cell_type": "code",
   "execution_count": 36,
   "id": "ca1fed26-a6f7-4608-8f49-5fc9c949d60e",
   "metadata": {},
   "outputs": [
    {
     "data": {
      "text/plain": [
       "'    rehan     bagwan'"
      ]
     },
     "execution_count": 36,
     "metadata": {},
     "output_type": "execute_result"
    }
   ],
   "source": [
    "name2.rstrip()"
   ]
  },
  {
   "cell_type": "code",
   "execution_count": 37,
   "id": "f6ae0406-c529-49e9-b80f-ae44c86d7a5b",
   "metadata": {},
   "outputs": [
    {
     "data": {
      "text/plain": [
       "'rehan     bagwan'"
      ]
     },
     "execution_count": 37,
     "metadata": {},
     "output_type": "execute_result"
    }
   ],
   "source": [
    "name2.strip()"
   ]
  },
  {
   "cell_type": "code",
   "execution_count": 38,
   "id": "569e93d7-3874-41a3-8eeb-49f54fa3c94b",
   "metadata": {},
   "outputs": [],
   "source": [
    "name3 = \" sufyan sayyad \""
   ]
  },
  {
   "cell_type": "code",
   "execution_count": 39,
   "id": "a4c38c73-d71f-402e-9798-fd638821f593",
   "metadata": {},
   "outputs": [
    {
     "data": {
      "text/plain": [
       "' sufyan sayyad '"
      ]
     },
     "execution_count": 39,
     "metadata": {},
     "output_type": "execute_result"
    }
   ],
   "source": [
    "name3"
   ]
  },
  {
   "cell_type": "code",
   "execution_count": 42,
   "id": "63a57030-9fe7-4f01-ad21-e02e1097abc4",
   "metadata": {},
   "outputs": [
    {
     "data": {
      "text/plain": [
       "'****************************************** sufyan sayyad *******************************************'"
      ]
     },
     "execution_count": 42,
     "metadata": {},
     "output_type": "execute_result"
    }
   ],
   "source": [
    "name3.center(100, '*')"
   ]
  },
  {
   "cell_type": "code",
   "execution_count": 45,
   "id": "4b138623-dbed-4f21-96ee-499a0ad121e1",
   "metadata": {},
   "outputs": [],
   "source": [
    "name4 =\"shreya jadhav\""
   ]
  },
  {
   "cell_type": "code",
   "execution_count": 46,
   "id": "f68d56aa-0337-41af-9df3-dcfcdaba8425",
   "metadata": {},
   "outputs": [
    {
     "data": {
      "text/plain": [
       "'shreya jadhav'"
      ]
     },
     "execution_count": 46,
     "metadata": {},
     "output_type": "execute_result"
    }
   ],
   "source": [
    "name4"
   ]
  },
  {
   "cell_type": "code",
   "execution_count": 47,
   "id": "224685e3-35f8-487c-9e0b-28fcc61a4b81",
   "metadata": {},
   "outputs": [
    {
     "data": {
      "text/plain": [
       "True"
      ]
     },
     "execution_count": 47,
     "metadata": {},
     "output_type": "execute_result"
    }
   ],
   "source": [
    "name4.islower()"
   ]
  },
  {
   "cell_type": "code",
   "execution_count": 48,
   "id": "bc6525ba-322f-4558-b5be-58fdad40ebcd",
   "metadata": {},
   "outputs": [
    {
     "data": {
      "text/plain": [
       "'shreya jadhav'"
      ]
     },
     "execution_count": 48,
     "metadata": {},
     "output_type": "execute_result"
    }
   ],
   "source": [
    "name4"
   ]
  },
  {
   "cell_type": "code",
   "execution_count": 50,
   "id": "b864f495-a258-4c35-8535-eeba9d69abc9",
   "metadata": {},
   "outputs": [
    {
     "data": {
      "text/plain": [
       "False"
      ]
     },
     "execution_count": 50,
     "metadata": {},
     "output_type": "execute_result"
    }
   ],
   "source": [
    "name4.isupper()"
   ]
  },
  {
   "cell_type": "code",
   "execution_count": 51,
   "id": "2570c0fc-6026-497c-8821-9eb841c5d4bc",
   "metadata": {},
   "outputs": [],
   "source": [
    "name4 = \"shreya\""
   ]
  },
  {
   "cell_type": "code",
   "execution_count": 53,
   "id": "dec1ea1a-cdf5-4e33-8fa3-bec53c247646",
   "metadata": {},
   "outputs": [
    {
     "data": {
      "text/plain": [
       "True"
      ]
     },
     "execution_count": 53,
     "metadata": {},
     "output_type": "execute_result"
    }
   ],
   "source": [
    "name.isupper()"
   ]
  },
  {
   "cell_type": "code",
   "execution_count": 56,
   "id": "0341b1d1-e979-486d-b4c7-cf0cfb385a60",
   "metadata": {},
   "outputs": [
    {
     "data": {
      "text/plain": [
       "False"
      ]
     },
     "execution_count": 56,
     "metadata": {},
     "output_type": "execute_result"
    }
   ],
   "source": [
    "name4.isspace()"
   ]
  },
  {
   "cell_type": "code",
   "execution_count": null,
   "id": "0c8a6775-54d5-49a8-ae5b-bbed69dfa207",
   "metadata": {},
   "outputs": [],
   "source": [
    "name4."
   ]
  }
 ],
 "metadata": {
  "kernelspec": {
   "display_name": "Python 3 (ipykernel)",
   "language": "python",
   "name": "python3"
  },
  "language_info": {
   "codemirror_mode": {
    "name": "ipython",
    "version": 3
   },
   "file_extension": ".py",
   "mimetype": "text/x-python",
   "name": "python",
   "nbconvert_exporter": "python",
   "pygments_lexer": "ipython3",
   "version": "3.12.4"
  }
 },
 "nbformat": 4,
 "nbformat_minor": 5
}
