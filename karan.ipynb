{
 "cells": [
  {
   "cell_type": "markdown",
   "id": "ced85a2f-2c90-41dc-a0c8-6e8e1d3d967d",
   "metadata": {},
   "source": [
    "s = \"this is My First Python programming class and i am learNING python string and its function\" \n",
    "1 . Try to extract data from index one to index 300 with a jump of 3 \n",
    "2. Try to reverse a string without using reverse function \n",
    "3. Try to split a string after conversion of entire string in uppercase \n",
    "4. try to convert the whole string into lower case \n",
    "5 . Try to capitalize the whole string \n",
    "6 . Write a diference between isalnum() and isalpha() \n",
    "7. Try to give an example of expand tab \n",
    "8. Give an example of strip , lstrip and rstrip\n",
    "9. Replace a string charecter by another charector by taking your own example \"Your Name\"\n",
    "10 . Try to give a defination of string center function with and exmple\n",
    "11 . Write your own definition of compiler and interpretor without copy paste form internet in your own language \n",
    "12 . Python is a interpreted of compiled language give a clear ans with your understanding\n",
    "13 . Try to write a usecase of python with your understanding ."
   ]
  },
  {
   "cell_type": "code",
   "execution_count": 4,
   "id": "cf1f9008-6b89-4c0e-a28c-452afe2c9d25",
   "metadata": {},
   "outputs": [],
   "source": [
    "s = \"this is My First Python programming class and i am learNING python string and its function\" "
   ]
  },
  {
   "cell_type": "code",
   "execution_count": 5,
   "id": "5aeba967-36e9-40ff-ac07-7e3f9db6a109",
   "metadata": {},
   "outputs": [
    {
     "data": {
      "text/plain": [
       "'h   r tnrrmglsnimeNGyosi dtfco'"
      ]
     },
     "execution_count": 5,
     "metadata": {},
     "output_type": "execute_result"
    }
   ],
   "source": [
    "s[1:301:3]"
   ]
  },
  {
   "cell_type": "code",
   "execution_count": 8,
   "id": "8ba032c4-eb28-4135-a7b2-ef8d90e43b50",
   "metadata": {},
   "outputs": [
    {
     "data": {
      "text/plain": [
       "'noitcnuf sti dna gnirts nohtyp GNINrael ma i dna ssalc gnimmargorp nohtyP tsriF yM si siht'"
      ]
     },
     "execution_count": 8,
     "metadata": {},
     "output_type": "execute_result"
    }
   ],
   "source": [
    "s[::-1]"
   ]
  },
  {
   "cell_type": "code",
   "execution_count": 10,
   "id": "71fd2d66-f18f-42ab-85b0-1458137abd54",
   "metadata": {},
   "outputs": [
    {
     "data": {
      "text/plain": [
       "['THIS',\n",
       " 'IS',\n",
       " 'MY',\n",
       " 'FIRST',\n",
       " 'PYTHON',\n",
       " 'PROGRAMMING',\n",
       " 'CLASS',\n",
       " 'AND',\n",
       " 'I',\n",
       " 'AM',\n",
       " 'LEARNING',\n",
       " 'PYTHON',\n",
       " 'STRING',\n",
       " 'AND',\n",
       " 'ITS',\n",
       " 'FUNCTION']"
      ]
     },
     "execution_count": 10,
     "metadata": {},
     "output_type": "execute_result"
    }
   ],
   "source": [
    "s1=s.upper()\n",
    "s1.split()"
   ]
  },
  {
   "cell_type": "code",
   "execution_count": 11,
   "id": "da824c41-b24b-456d-bf67-0a773c48a745",
   "metadata": {},
   "outputs": [
    {
     "data": {
      "text/plain": [
       "'this is my first python programming class and i am learning python string and its function'"
      ]
     },
     "execution_count": 11,
     "metadata": {},
     "output_type": "execute_result"
    }
   ],
   "source": [
    "s .lower()"
   ]
  },
  {
   "cell_type": "code",
   "execution_count": 12,
   "id": "ef48b617-5d66-40fb-ba7c-f2da3ab81969",
   "metadata": {},
   "outputs": [
    {
     "data": {
      "text/plain": [
       "'This is my first python programming class and i am learning python string and its function'"
      ]
     },
     "execution_count": 12,
     "metadata": {},
     "output_type": "execute_result"
    }
   ],
   "source": [
    "s .capitalize()"
   ]
  },
  {
   "cell_type": "code",
   "execution_count": 13,
   "id": "1875b80c-080b-4f6b-a1af-b4a4773f9098",
   "metadata": {},
   "outputs": [
    {
     "data": {
      "text/plain": [
       "True"
      ]
     },
     "execution_count": 13,
     "metadata": {},
     "output_type": "execute_result"
    }
   ],
   "source": [
    "s1=\"hdhhfg\"\n",
    "s1.isalnum()"
   ]
  },
  {
   "cell_type": "code",
   "execution_count": 14,
   "id": "e141ee37-ade3-497d-83c5-977401a763c2",
   "metadata": {},
   "outputs": [
    {
     "data": {
      "text/plain": [
       "False"
      ]
     },
     "execution_count": 14,
     "metadata": {},
     "output_type": "execute_result"
    }
   ],
   "source": [
    "s1=\"kqaran888\"\n",
    "s1. isalpha() "
   ]
  },
  {
   "cell_type": "code",
   "execution_count": 15,
   "id": "9a8c7ec9-81f9-409a-94f4-c84905c8abdd",
   "metadata": {},
   "outputs": [
    {
     "data": {
      "text/plain": [
       "False"
      ]
     },
     "execution_count": 15,
     "metadata": {},
     "output_type": "execute_result"
    }
   ],
   "source": [
    "s1=\"$^***&%&\"\n",
    "s1.isalpha() "
   ]
  },
  {
   "cell_type": "code",
   "execution_count": 16,
   "id": "ac05ef1c-6da2-4b3d-a64b-9d35f9e4f149",
   "metadata": {},
   "outputs": [
    {
     "data": {
      "text/plain": [
       "'grthr   12457   abcdefghi'"
      ]
     },
     "execution_count": 16,
     "metadata": {},
     "output_type": "execute_result"
    }
   ],
   "source": [
    "s=\"grthr\\t12457\\tabcdefghi\"\n",
    "s.expandtabs()"
   ]
  },
  {
   "cell_type": "code",
   "execution_count": null,
   "id": "da7a8ed3-9107-4fb9-a94f-1528fb7c0870",
   "metadata": {},
   "outputs": [],
   "source": []
  }
 ],
 "metadata": {
  "kernelspec": {
   "display_name": "Python 3 (ipykernel)",
   "language": "python",
   "name": "python3"
  },
  "language_info": {
   "codemirror_mode": {
    "name": "ipython",
    "version": 3
   },
   "file_extension": ".py",
   "mimetype": "text/x-python",
   "name": "python",
   "nbconvert_exporter": "python",
   "pygments_lexer": "ipython3",
   "version": "3.12.4"
  }
 },
 "nbformat": 4,
 "nbformat_minor": 5
}
