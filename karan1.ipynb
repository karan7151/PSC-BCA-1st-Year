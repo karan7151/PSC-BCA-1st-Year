{
 "cells": [
  {
   "cell_type": "code",
   "execution_count": 6,
   "id": "d3428104-00ff-458e-8680-e4cb9f63899f",
   "metadata": {},
   "outputs": [],
   "source": [
    "name = \"Prasanna babar\""
   ]
  },
  {
   "cell_type": "code",
   "execution_count": 7,
   "id": "b9776518-8659-4b2c-8f18-975eed9124ed",
   "metadata": {},
   "outputs": [
    {
     "data": {
      "text/plain": [
       "'Prasanna babar'"
      ]
     },
     "execution_count": 7,
     "metadata": {},
     "output_type": "execute_result"
    }
   ],
   "source": [
    "name"
   ]
  },
  {
   "cell_type": "code",
   "execution_count": 8,
   "id": "41f717a1-ef35-4d13-9e86-ac5668ec8119",
   "metadata": {},
   "outputs": [
    {
     "data": {
      "text/plain": [
       "'n'"
      ]
     },
     "execution_count": 8,
     "metadata": {},
     "output_type": "execute_result"
    }
   ],
   "source": [
    "name[6]"
   ]
  },
  {
   "cell_type": "code",
   "execution_count": 9,
   "id": "bf5add0e-b874-449e-8e83-606b25b2e0e7",
   "metadata": {},
   "outputs": [],
   "source": [
    "# slicing opeation"
   ]
  },
  {
   "cell_type": "code",
   "execution_count": 10,
   "id": "34c25a08-9e00-4d50-b496-0def3c7b3432",
   "metadata": {},
   "outputs": [
    {
     "data": {
      "text/plain": [
       "''"
      ]
     },
     "execution_count": 10,
     "metadata": {},
     "output_type": "execute_result"
    }
   ],
   "source": [
    "name[6:-1:-2]"
   ]
  },
  {
   "cell_type": "code",
   "execution_count": 12,
   "id": "4efa599f-0051-487d-8910-9f7e33c3077a",
   "metadata": {},
   "outputs": [
    {
     "data": {
      "text/plain": [
       "' naa'"
      ]
     },
     "execution_count": 12,
     "metadata": {},
     "output_type": "execute_result"
    }
   ],
   "source": [
    "name[-6:1:-2]"
   ]
  },
  {
   "cell_type": "code",
   "execution_count": 13,
   "id": "abb2f28e-9e7d-4013-9712-fb22d509087a",
   "metadata": {},
   "outputs": [
    {
     "data": {
      "text/plain": [
       "''"
      ]
     },
     "execution_count": 13,
     "metadata": {},
     "output_type": "execute_result"
    }
   ],
   "source": [
    "name[-5:3:1]"
   ]
  },
  {
   "cell_type": "code",
   "execution_count": 16,
   "id": "b69f25c8-3c2d-4be0-bb73-40868443eac2",
   "metadata": {},
   "outputs": [
    {
     "data": {
      "text/plain": [
       "''"
      ]
     },
     "execution_count": 16,
     "metadata": {},
     "output_type": "execute_result"
    }
   ],
   "source": [
    "name[-5:10:-1]"
   ]
  },
  {
   "cell_type": "code",
   "execution_count": 17,
   "id": "e10bfa74-9612-4075-ab07-375972c8c26b",
   "metadata": {},
   "outputs": [
    {
     "data": {
      "text/plain": [
       "'na ba'"
      ]
     },
     "execution_count": 17,
     "metadata": {},
     "output_type": "execute_result"
    }
   ],
   "source": [
    "name[-8:11]"
   ]
  },
  {
   "cell_type": "code",
   "execution_count": 18,
   "id": "3da3edff-5f34-4b12-b6dd-52c2320da2b5",
   "metadata": {},
   "outputs": [
    {
     "data": {
      "text/plain": [
       "'r'"
      ]
     },
     "execution_count": 18,
     "metadata": {},
     "output_type": "execute_result"
    }
   ],
   "source": [
    "name[13]"
   ]
  },
  {
   "cell_type": "code",
   "execution_count": 19,
   "id": "2110c476-b64a-4fce-9d4d-2e1e55a4044d",
   "metadata": {},
   "outputs": [
    {
     "data": {
      "text/plain": [
       "'na bab'"
      ]
     },
     "execution_count": 19,
     "metadata": {},
     "output_type": "execute_result"
    }
   ],
   "source": [
    "name[6:-2]"
   ]
  },
  {
   "cell_type": "code",
   "execution_count": 20,
   "id": "ac92df20-fd5c-4313-a3fc-669042444141",
   "metadata": {},
   "outputs": [
    {
     "data": {
      "text/plain": [
       "'raaar'"
      ]
     },
     "execution_count": 20,
     "metadata": {},
     "output_type": "execute_result"
    }
   ],
   "source": [
    "name[13:-14:-3]"
   ]
  },
  {
   "cell_type": "code",
   "execution_count": 21,
   "id": "3104d2ff-a4c8-4e14-8f56-0296717652ff",
   "metadata": {},
   "outputs": [
    {
     "data": {
      "text/plain": [
       "'na'"
      ]
     },
     "execution_count": 21,
     "metadata": {},
     "output_type": "execute_result"
    }
   ],
   "source": [
    "name[-8:8]"
   ]
  },
  {
   "cell_type": "code",
   "execution_count": 22,
   "id": "c436e26b-2eb2-42d5-991b-e5e94ace409a",
   "metadata": {},
   "outputs": [
    {
     "data": {
      "text/plain": [
       "''"
      ]
     },
     "execution_count": 22,
     "metadata": {},
     "output_type": "execute_result"
    }
   ],
   "source": [
    "name[-9:0:1]"
   ]
  },
  {
   "cell_type": "code",
   "execution_count": 23,
   "id": "89f6dd4b-89ac-4c5c-b1b2-9abcce85c95c",
   "metadata": {},
   "outputs": [
    {
     "data": {
      "text/plain": [
       "' annas'"
      ]
     },
     "execution_count": 23,
     "metadata": {},
     "output_type": "execute_result"
    }
   ],
   "source": [
    "name[-6:2:-1]"
   ]
  },
  {
   "cell_type": "code",
   "execution_count": 24,
   "id": "00f7df0f-22b3-4084-bcd3-e07e328f66f3",
   "metadata": {},
   "outputs": [
    {
     "data": {
      "text/plain": [
       "'anna ba'"
      ]
     },
     "execution_count": 24,
     "metadata": {},
     "output_type": "execute_result"
    }
   ],
   "source": [
    "name[-10:-3:1]"
   ]
  },
  {
   "cell_type": "code",
   "execution_count": 25,
   "id": "c33989b7-fad7-42de-8d2b-6fcee8970177",
   "metadata": {},
   "outputs": [
    {
     "data": {
      "text/plain": [
       "'b'"
      ]
     },
     "execution_count": 25,
     "metadata": {},
     "output_type": "execute_result"
    }
   ],
   "source": [
    "name[-3:-1:2]"
   ]
  },
  {
   "cell_type": "code",
   "execution_count": 26,
   "id": "42ae0bea-4c6e-452a-a50d-e9b4e0e0e966",
   "metadata": {},
   "outputs": [],
   "source": [
    "name1 = \"karan jadhav\""
   ]
  },
  {
   "cell_type": "code",
   "execution_count": 27,
   "id": "3b164a36-f928-4a81-b7e2-f8249a41e0b7",
   "metadata": {},
   "outputs": [
    {
     "data": {
      "text/plain": [
       "'karan jadhav'"
      ]
     },
     "execution_count": 27,
     "metadata": {},
     "output_type": "execute_result"
    }
   ],
   "source": [
    "name1"
   ]
  },
  {
   "cell_type": "code",
   "execution_count": 30,
   "id": "924f46ff-5eed-4c07-92f0-4ef0abeac1b3",
   "metadata": {},
   "outputs": [
    {
     "data": {
      "text/plain": [
       "'vahdaj narak'"
      ]
     },
     "execution_count": 30,
     "metadata": {},
     "output_type": "execute_result"
    }
   ],
   "source": [
    "name1[-1: :-1]"
   ]
  },
  {
   "cell_type": "code",
   "execution_count": 31,
   "id": "932f2d46-cdcc-4620-8b97-aa5c0df2356b",
   "metadata": {},
   "outputs": [
    {
     "data": {
      "text/plain": [
       "'vahdaj narak'"
      ]
     },
     "execution_count": 31,
     "metadata": {},
     "output_type": "execute_result"
    }
   ],
   "source": [
    "name1[::-1]"
   ]
  },
  {
   "cell_type": "code",
   "execution_count": 33,
   "id": "8615450d-2868-465b-aec3-edbdc3995ab9",
   "metadata": {},
   "outputs": [
    {
     "ename": "TypeError",
     "evalue": "can only concatenate str (not \"list\") to str",
     "output_type": "error",
     "traceback": [
      "\u001b[0;31m---------------------------------------------------------------------------\u001b[0m",
      "\u001b[0;31mTypeError\u001b[0m                                 Traceback (most recent call last)",
      "Cell \u001b[0;32mIn[33], line 1\u001b[0m\n\u001b[0;32m----> 1\u001b[0m name1\u001b[38;5;241m+\u001b[39m [\u001b[38;5;241m1511\u001b[39m]\n",
      "\u001b[0;31mTypeError\u001b[0m: can only concatenate str (not \"list\") to str"
     ]
    }
   ],
   "source": [
    "name1+1511"
   ]
  },
  {
   "cell_type": "code",
   "execution_count": 35,
   "id": "16d4e2d3-c103-4494-b7e9-abf6f69d1b3b",
   "metadata": {},
   "outputs": [
    {
     "data": {
      "text/plain": [
       "'karan jadhav1511'"
      ]
     },
     "execution_count": 35,
     "metadata": {},
     "output_type": "execute_result"
    }
   ],
   "source": [
    "name1+'1511'\n"
   ]
  },
  {
   "cell_type": "code",
   "execution_count": 37,
   "id": "6ace759c-27f9-42cf-9307-1bcfdeef3017",
   "metadata": {},
   "outputs": [
    {
     "data": {
      "text/plain": [
       "'karan jadhav'"
      ]
     },
     "execution_count": 37,
     "metadata": {},
     "output_type": "execute_result"
    }
   ],
   "source": [
    "name1"
   ]
  },
  {
   "cell_type": "code",
   "execution_count": 38,
   "id": "d5b0e52c-dbd9-454b-b31a-45588cfa7428",
   "metadata": {},
   "outputs": [
    {
     "data": {
      "text/plain": [
       "'karan jadhav1511'"
      ]
     },
     "execution_count": 38,
     "metadata": {},
     "output_type": "execute_result"
    }
   ],
   "source": [
    "name1+str(1511)"
   ]
  },
  {
   "cell_type": "code",
   "execution_count": 39,
   "id": "977bafa9-06f1-4183-a7d3-35e6377371e6",
   "metadata": {},
   "outputs": [
    {
     "data": {
      "text/plain": [
       "12"
      ]
     },
     "execution_count": 39,
     "metadata": {},
     "output_type": "execute_result"
    }
   ],
   "source": [
    "# find the length of name1\n",
    "len(name1)"
   ]
  },
  {
   "cell_type": "code",
   "execution_count": 40,
   "id": "427c94c2-c0e3-4003-9ebb-b0a9835e89fa",
   "metadata": {},
   "outputs": [
    {
     "data": {
      "text/plain": [
       "'karan jadhavkaran jadhavkaran jadhavkaran jadhav'"
      ]
     },
     "execution_count": 40,
     "metadata": {},
     "output_type": "execute_result"
    }
   ],
   "source": [
    "name1*4"
   ]
  },
  {
   "cell_type": "code",
   "execution_count": 42,
   "id": "43e515ef-621f-44a7-993b-a1c0c54cc122",
   "metadata": {},
   "outputs": [
    {
     "data": {
      "text/plain": [
       "'karan jadhav'"
      ]
     },
     "execution_count": 42,
     "metadata": {},
     "output_type": "execute_result"
    }
   ],
   "source": [
    "name1"
   ]
  },
  {
   "cell_type": "code",
   "execution_count": 47,
   "id": "5a65abcf-8a36-476f-a4fe-9c5b9008d31c",
   "metadata": {},
   "outputs": [
    {
     "data": {
      "text/plain": [
       "1"
      ]
     },
     "execution_count": 47,
     "metadata": {},
     "output_type": "execute_result"
    }
   ],
   "source": [
    "name1.count('ar')"
   ]
  },
  {
   "cell_type": "code",
   "execution_count": 48,
   "id": "fec97cd0-8ef1-422f-993c-766d721c1c51",
   "metadata": {},
   "outputs": [
    {
     "data": {
      "text/plain": [
       "['k', 'r', 'n j', 'dh', 'v']"
      ]
     },
     "execution_count": 48,
     "metadata": {},
     "output_type": "execute_result"
    }
   ],
   "source": [
    "name1.split('a')"
   ]
  },
  {
   "cell_type": "code",
   "execution_count": 50,
   "id": "d2541837-4fb0-4980-964e-3cf323c80789",
   "metadata": {},
   "outputs": [
    {
     "data": {
      "text/plain": [
       "list"
      ]
     },
     "execution_count": 50,
     "metadata": {},
     "output_type": "execute_result"
    }
   ],
   "source": [
    "type(name1.split('a'))"
   ]
  },
  {
   "cell_type": "code",
   "execution_count": 2,
   "id": "115d9cd2-e55b-456c-828c-eb1cdee6357c",
   "metadata": {},
   "outputs": [
    {
     "ename": "SyntaxError",
     "evalue": "invalid decimal literal (2122985229.py, line 5)",
     "output_type": "error",
     "traceback": [
      "\u001b[0;36m  Cell \u001b[0;32mIn[2], line 5\u001b[0;36m\u001b[0m\n\u001b[0;31m    name2.split['Lorem Ipsum is simply dummy text of the printing and typesetting industry. Lorem Ipsum has been the industry's standard dummy text ever since the 1500s, when an unknown printer took a galley of type and scrambled it to make a type specimen book. It has survived not only five centuries, but also the leap into electronic typesetting, remaining essentially unchanged. It was popularised in the 1960s with the release of Letraset sheets containing Lorem Ipsum passages, and more recently with desktop publishing software like Aldus PageMaker including versions of Lorem Ipsum.']\u001b[0m\n\u001b[0m                                                                                                                                                                      ^\u001b[0m\n\u001b[0;31mSyntaxError\u001b[0m\u001b[0;31m:\u001b[0m invalid decimal literal\n"
     ]
    }
   ],
   "source": [
    "# Divide name 2 into list of words\n",
    "# [ 'lorem',\n",
    "#\n",
    "# ...]\n",
    "name2.split['Lorem Ipsum is simply dummy text of the printing and typesetting industry. Lorem Ipsum has been the industry's standard dummy text ever since the 1500s, when an unknown printer took a galley of type and scrambled it to make a type specimen book. It has survived not only five centuries, but also the leap into electronic typesetting, remaining essentially unchanged. It was popularised in the 1960s with the release of Letraset sheets containing Lorem Ipsum passages, and more recently with desktop publishing software like Aldus PageMaker including versions of Lorem Ipsum.']"
   ]
  },
  {
   "cell_type": "code",
   "execution_count": 3,
   "id": "f4a41437-fbac-4bc6-8e35-313771fac320",
   "metadata": {},
   "outputs": [],
   "source": []
  }
 ],
 "metadata": {
  "kernelspec": {
   "display_name": "Python 3 (ipykernel)",
   "language": "python",
   "name": "python3"
  },
  "language_info": {
   "codemirror_mode": {
    "name": "ipython",
    "version": 3
   },
   "file_extension": ".py",
   "mimetype": "text/x-python",
   "name": "python",
   "nbconvert_exporter": "python",
   "pygments_lexer": "ipython3",
   "version": "3.12.4"
  }
 },
 "nbformat": 4,
 "nbformat_minor": 5
}
